{
  "cells": [
    {
      "cell_type": "markdown",
      "metadata": {
        "id": "view-in-github",
        "colab_type": "text"
      },
      "source": [
        "<a href=\"https://colab.research.google.com/github/darioblandon/materials-fa23/blob/main/lab/lab09/lab09_td.ipynb\" target=\"_parent\"><img src=\"https://colab.research.google.com/assets/colab-badge.svg\" alt=\"Open In Colab\"/></a>"
      ]
    },
    {
      "cell_type": "code",
      "execution_count": null,
      "metadata": {
        "deletable": false,
        "editable": false,
        "id": "hB95Efivt8S_"
      },
      "outputs": [],
      "source": [
        "# Initialize Otter\n",
        "import otter\n",
        "grader = otter.Notebook(\"lab09.ipynb\")"
      ],
      "id": "hB95Efivt8S_"
    },
    {
      "cell_type": "markdown",
      "metadata": {
        "id": "bb0y15XUt8TA"
      },
      "source": [
        "<p><img alt=\"Colaboratory logo\" height=\"140px\" src=\"https://upload.wikimedia.org/wikipedia/commons/archive/f/fb/20161010213812%21Escudo-UdeA.svg\" align=\"left\" hspace=\"10px\" vspace=\"0px\"></p>\n",
        "\n",
        "<h1> Fundamentos en ciencias de datos</h1>\n",
        "\n",
        "# Laboratorio 9: Regresión\n",
        "\n",
        "¡Bienvenidos al Laboratorio 9!\n",
        "\n",
        "Hoy practicaremos un poco con la regresión lineal. Puedes encontrar más información sobre este tema en\n",
        "[Capítulo 15.2](https://www.inferentialthinking.com/chapters/15/2/Regression_Line.html#the-regression-line)."
      ],
      "id": "bb0y15XUt8TA"
    },
    {
      "cell_type": "markdown",
      "metadata": {
        "id": "SgqsyEvEt8TB"
      },
      "source": [
        "**Obtener ayuda en el laboratorio**: Siempre que te sientas estancado o necesites más aclaraciones, busca un GSI o un tutor, ¡y estarán encantados de ayudarte!\n",
        "\n",
        "Estas son las políticas para obtener crédito completo:\n",
        "\n",
        "1. Para los estudiantes inscritos en <span style=\"color: #BC412B\">**Regular Labs**</span> en persona, recibirán crédito de laboratorio al **asistir** a la sección de laboratorio y lograr un progreso significativo en el cuaderno de laboratorio. **<span style=\"text-decoration: underline\">debes</span>** enviar esta tarea a Gradescope.\n",
        "\n",
        "2. Los estudiantes inscritos en <span style=\"color: #04888B\">**Laboratorio de autoservicio**</span> recibirán crédito de laboratorio al **completar** el cuaderno, aprobar los casos de prueba y **enviándolo** a Gradescope antes de las **11:59 p. m. de la fecha de entrega**.\n",
        "\n",
        "**Envío**: una vez que haya terminado, ejecute todas las celdas además de la última, seleccione Archivo > Guardar cuaderno y luego ejecute la celda final. El resultado contendrá un archivo zip que podrá utilizar para enviarlo en Gradescope.\n",
        "\n",
        "Comencemos configurando las pruebas y las importaciones ejecutando la siguiente celda."
      ],
      "id": "SgqsyEvEt8TB"
    },
    {
      "cell_type": "code",
      "execution_count": null,
      "metadata": {
        "id": "GkEJGtEMt8TC"
      },
      "outputs": [],
      "source": [
        "# Ejecute esta celda, pero no la cambie.\n",
        "\n",
        "# Estas líneas importan los módulos Numpy y Datascience.\n",
        "\n",
        "import numpy as np\n",
        "from datascience import *\n",
        "\n",
        "# Estas líneas hacen algo de magia en la trama.\n",
        "import matplotlib\n",
        "%matplotlib inline\n",
        "import matplotlib.pyplot as plots\n",
        "plots.style.use('fivethirtyeight')\n",
        "import warnings\n",
        "warnings.simplefilter('ignore', FutureWarning)"
      ],
      "id": "GkEJGtEMt8TC"
    },
    {
      "cell_type": "markdown",
      "metadata": {
        "id": "F4CmFFeht8TC"
      },
      "source": [
        "# 1. ¿Qué tan fiel es Old Faithful?\n",
        "\n",
        "Old Faithful es un géiser en el Parque Nacional de Yellowstone que es famoso por hacer erupción en un horario bastante regular. Ejecute la celda a continuación para ver a Old Faithful en acción."
      ],
      "id": "F4CmFFeht8TC"
    },
    {
      "cell_type": "code",
      "execution_count": null,
      "metadata": {
        "id": "mS4kFQi8t8TD"
      },
      "outputs": [],
      "source": [
        "# Para los curiosos: así es como mostrar un vídeo de YouTube en un\n",
        "# Cuaderno Jupyter. El argumento de YouTubeVideo es la parte.\n",
        "# de la URL (llamada \"parámetro de consulta\") que identifica el\n",
        "# video. Por ejemplo, la URL completa de este vídeo es:\n",
        "\n",
        "#   https://www.youtube.com/watch?v=wE8NDuzt8eg\n",
        "from IPython.display import YouTubeVideo\n",
        "YouTubeVideo(\"wE8NDuzt8eg\")"
      ],
      "id": "mS4kFQi8t8TD"
    },
    {
      "cell_type": "markdown",
      "metadata": {
        "id": "c1ayT0MLt8TD"
      },
      "source": [
        "Algunas de las erupciones de Old Faithful duran más que otras. Siempre que hay una erupción prolongada, suele ir seguida de una espera aún más larga antes de la siguiente erupción. Si visita Yellowstone, es posible que desee predecir cuándo ocurrirá la próxima erupción, para poder ver el resto del parque en lugar de esperar junto al géiser.\n",
        "\n",
        "Hoy utilizaremos un conjunto de datos sobre la duración de las erupciones y los tiempos de espera para ver si podemos hacer tales predicciones con precisión mediante regresión lineal.\n",
        "\n",
        "El conjunto de datos tiene una fila para cada erupción observada. Incluye las siguientes columnas:\n",
        "- `duración`: duración de la erupción, en minutos\n",
        "- `espera`: Tiempo entre esta erupción y la siguiente, también en minutos\n",
        "\n",
        "Ejecute la siguiente celda para cargar el conjunto de datos."
      ],
      "id": "c1ayT0MLt8TD"
    },
    {
      "cell_type": "code",
      "execution_count": null,
      "metadata": {
        "id": "bllmMVO9t8TE"
      },
      "outputs": [],
      "source": [
        "faithful = Table.read_table(\"faithful.csv\")\n",
        "faithful"
      ],
      "id": "bllmMVO9t8TE"
    },
    {
      "cell_type": "markdown",
      "metadata": {
        "id": "nwIJ1Peqt8TE"
      },
      "source": [
        "**Pregunta 1.0.** Las siguientes afirmaciones son los pasos desordenados de la regresión lineal.\n",
        "\n",
        "1. Calcule los parámetros de la recta de regresión: la pendiente y la intersección.\n",
        "2. Evalúe la recta de regresión calculando el RMSE de la recta y analizando la gráfica de residuos.\n",
        "3. Utilice la línea de regresión para generar predicciones para cada valor de x.\n",
        "4. Determine si la regresión lineal es un método razonable visualizando sus datos y calculando el coeficiente de correlación.\n",
        "\n",
        "Haga una matriz llamada `least_squares_order` que contenga el orden correcto de un análisis de regresión lineal, donde el primer elemento de la matriz es el primer paso de un análisis de regresión lineal y el último elemento de la matriz es el último paso de un análisis de regresión lineal."
      ],
      "id": "nwIJ1Peqt8TE"
    },
    {
      "cell_type": "code",
      "execution_count": null,
      "metadata": {
        "tags": [],
        "id": "NtDYavtXt8TF"
      },
      "outputs": [],
      "source": [
        "least_squares_order = ..."
      ],
      "id": "NtDYavtXt8TF"
    },
    {
      "cell_type": "code",
      "execution_count": null,
      "metadata": {
        "deletable": false,
        "editable": false,
        "id": "U1aakGOFt8TF"
      },
      "outputs": [],
      "source": [
        "grader.check(\"q1_0\")"
      ],
      "id": "U1aakGOFt8TF"
    },
    {
      "cell_type": "markdown",
      "metadata": {
        "id": "EvPzUuOLt8TF"
      },
      "source": [
        "Nos gustaría utilizar la regresión lineal para hacer predicciones, pero eso no funcionará bien si los datos no están relacionados de forma lineal. Para comprobarlo, deberíamos mirar los datos."
      ],
      "id": "EvPzUuOLt8TF"
    },
    {
      "cell_type": "markdown",
      "metadata": {
        "id": "VdBWSIXvt8TF"
      },
      "source": [
        "**Pregunta 1.1.** Haz un diagrama de dispersión de los datos. Es convencional poner la columna que queremos predecir en el eje vertical y la otra columna en el eje horizontal.\n"
      ],
      "id": "VdBWSIXvt8TF"
    },
    {
      "cell_type": "code",
      "execution_count": null,
      "metadata": {
        "tags": [],
        "id": "bLp-cCntt8TG"
      },
      "outputs": [],
      "source": [
        "..."
      ],
      "id": "bLp-cCntt8TG"
    },
    {
      "cell_type": "markdown",
      "metadata": {
        "id": "dyy54XjBt8TG"
      },
      "source": [
        "**Pregunta 1.2.** ¿La duración de la erupción y el tiempo de espera están relacionados de manera aproximadamente lineal según el diagrama de dispersión anterior? ¿Es esta relación positiva?\n"
      ],
      "id": "dyy54XjBt8TG"
    },
    {
      "cell_type": "markdown",
      "metadata": {
        "id": "7mjS0CZxt8TG"
      },
      "source": [
        "_Escriba su respuesta aquí, reemplazando este texto._"
      ],
      "id": "7mjS0CZxt8TG"
    },
    {
      "cell_type": "markdown",
      "metadata": {
        "id": "boeTfFvDt8TG"
      },
      "source": [
        "Continuaremos asumiendo que están relacionados linealmente, por lo que es razonable utilizar la regresión lineal para analizar estos datos.\n",
        "\n",
        "A continuación nos gustaría trazar los datos en unidades estándar. Si no recuerda la definición de unidades estándar, la sección  del libro de texto [14.2](https://www.inferentialthinking.com/chapters/14/2/Variability.html#standard-units) puede resultarle útil."
      ],
      "id": "boeTfFvDt8TG"
    },
    {
      "cell_type": "markdown",
      "metadata": {
        "id": "rxs4EdyBt8TH"
      },
      "source": [
        "**Pregunta 1.3.** Calcule la media y la desviación estándar de la duración de las erupciones y los tiempos de espera. **Luego** cree una tabla llamada `faithful_standard` que contenga la duración de las erupciones y los tiempos de espera en unidades estándar. Las columnas deben denominarse \"duración (unidades estándar)\" y \"espera (unidades estándar)\".\n"
      ],
      "id": "rxs4EdyBt8TH"
    },
    {
      "cell_type": "code",
      "execution_count": null,
      "metadata": {
        "for_assignment_type": "solution",
        "tags": [],
        "id": "zpPbCM_Gt8TH"
      },
      "outputs": [],
      "source": [
        "duration_mean = ...\n",
        "duration_std = ...\n",
        "wait_mean = ...\n",
        "wait_std = ...\n",
        "\n",
        "faithful_standard = Table().with_columns(\n",
        "    \"duration (standard units)\", ...,\n",
        "    \"wait (standard units)\", ...)\n",
        "faithful_standard"
      ],
      "id": "zpPbCM_Gt8TH"
    },
    {
      "cell_type": "code",
      "source": [],
      "metadata": {
        "id": "KcEuVfhUvQQJ"
      },
      "id": "KcEuVfhUvQQJ",
      "execution_count": null,
      "outputs": []
    },
    {
      "cell_type": "code",
      "execution_count": null,
      "metadata": {
        "deletable": false,
        "editable": false,
        "id": "lhsTSceyt8TH"
      },
      "outputs": [],
      "source": [
        "grader.check(\"q1_3\")"
      ],
      "id": "lhsTSceyt8TH"
    },
    {
      "cell_type": "markdown",
      "metadata": {
        "id": "K504LXDOt8TH"
      },
      "source": [
        "**Pregunta 1.4.** Traza los datos nuevamente, pero esta vez en unidades estándar.\n"
      ],
      "id": "K504LXDOt8TH"
    },
    {
      "cell_type": "code",
      "execution_count": null,
      "metadata": {
        "tags": [],
        "id": "AZ43Edtkt8TH"
      },
      "outputs": [],
      "source": [
        "..."
      ],
      "id": "AZ43Edtkt8TH"
    },
    {
      "cell_type": "markdown",
      "metadata": {
        "id": "FQiKmIR8t8TH"
      },
      "source": [
        "¡Notarás que esta trama se ve igual que la anterior! Sin embargo, los datos y los ejes tienen una escala diferente. Por eso es importante leer las marcas en los ejes."
      ],
      "id": "FQiKmIR8t8TH"
    },
    {
      "cell_type": "markdown",
      "metadata": {
        "id": "LyUhtes2t8TI"
      },
      "source": [
        "**Pregunta 1.5.** Entre los siguientes números, ¿cuál cree que es el más cercano a la correlación entre la duración de la erupción y el tiempo de espera en este conjunto de datos?\n",
        "\n",
        "1. -1\n",
        "2. 0\n",
        "3. 1\n",
        "\n",
        "Asigne \"correlación\" al número correspondiente a su conjetura (ya sea 1, 2 o 3).\n"
      ],
      "id": "LyUhtes2t8TI"
    },
    {
      "cell_type": "code",
      "execution_count": null,
      "metadata": {
        "tags": [],
        "id": "Kauc0NuZt8TI"
      },
      "outputs": [],
      "source": [
        "correlation = ..."
      ],
      "id": "Kauc0NuZt8TI"
    },
    {
      "cell_type": "code",
      "execution_count": null,
      "metadata": {
        "deletable": false,
        "editable": false,
        "id": "zreuwh1Ut8TI"
      },
      "outputs": [],
      "source": [
        "grader.check(\"q1_5\")"
      ],
      "id": "zreuwh1Ut8TI"
    },
    {
      "cell_type": "markdown",
      "metadata": {
        "id": "j0-PtlCBt8TI"
      },
      "source": [
        "**Pregunta 1.6.** Calcule el coeficiente de correlación: `r`.\n",
        "\n",
        "*Pista:* Utilice `faithful_standard`. La sección [15.1](https://www.inferentialthinking.com/chapters/15/1/Correlation.html#calculating-r) explica cómo hacer esto.\n",
        "\n"
      ],
      "id": "j0-PtlCBt8TI"
    },
    {
      "cell_type": "code",
      "execution_count": null,
      "metadata": {
        "tags": [],
        "id": "eKFIa91qt8TI"
      },
      "outputs": [],
      "source": [
        "r = ...\n",
        "r"
      ],
      "id": "eKFIa91qt8TI"
    },
    {
      "cell_type": "code",
      "execution_count": null,
      "metadata": {
        "deletable": false,
        "editable": false,
        "id": "sYHX3vBHt8TI"
      },
      "outputs": [],
      "source": [
        "grader.check(\"q1_6\")"
      ],
      "id": "sYHX3vBHt8TI"
    },
    {
      "cell_type": "markdown",
      "metadata": {
        "id": "TZ56E-dLt8TJ"
      },
      "source": [
        "## 2. La línea de regresión\n",
        "Recuerde que la **correlación** es la **pendiente de la línea de regresión cuando los datos se expresan en unidades estándar**.\n",
        "\n",
        "La siguiente celda traza la línea de regresión en unidades estándar:\n",
        "\n",
        "$$\\text{tiempo de espera en unidades estándar} = r \\times \\text{duración de la erupción en unidades estándar}$$\n",
        "\n",
        "Luego, vuelve a trazar los datos en unidades estándar para compararlos."
      ],
      "id": "TZ56E-dLt8TJ"
    },
    {
      "cell_type": "code",
      "execution_count": null,
      "metadata": {
        "id": "lRmYI-2it8TJ"
      },
      "outputs": [],
      "source": [
        "def plot_data_and_line(dataset, x, y, point_0, point_1):\n",
        "    \"\"\"Makes a scatter plot of the dataset, along with a line passing through two points.\"\"\"\n",
        "    dataset.scatter(x, y, label=\"data\")\n",
        "    xs, ys = zip(point_0, point_1)\n",
        "    plots.plot(xs, ys, label=\"regression line\")\n",
        "    plots.legend(bbox_to_anchor=(1.5,.8))\n",
        "\n",
        "plot_data_and_line(faithful_standard,\n",
        "                   \"duration (standard units)\",\n",
        "                   \"wait (standard units)\",\n",
        "                   [-2, -2*r],\n",
        "                   [2, 2*r])"
      ],
      "id": "lRmYI-2it8TJ"
    },
    {
      "cell_type": "markdown",
      "metadata": {
        "id": "RZMJi51Kt8TJ"
      },
      "source": [
        "¿Cómo tomarías un punto en unidades estándar y lo convertirías nuevamente a unidades originales? Tendríamos que \"estirar\" su posición horizontal por `duration_std` y su posición vertical por `wait_std`. Eso significa que le pasaría lo mismo a la pendiente de la línea.\n",
        "\n",
        "Estirar una línea horizontalmente la hace menos empinada, por lo que dividimos la pendiente por el factor de estiramiento horizontal. Estirar una línea verticalmente la hace más empinada, por lo que multiplicamos la pendiente por el factor de estiramiento vertical.\n",
        "\n",
        "**Pregunta 2.1.** Calcule la pendiente de la recta de regresión en unidades originales y asígnela a \"pendiente\".\n",
        "\n",
        "(Si la explicación del \"estiramiento\" no es intuitiva, consulte la sección [15.2](https://www.inferentialthinking.com/chapters/15/2/Regression_Line.html#the-equation-of-the-regression-line) en el libro de texto.)\n"
      ],
      "id": "RZMJi51Kt8TJ"
    },
    {
      "cell_type": "code",
      "execution_count": null,
      "metadata": {
        "tags": [],
        "id": "soLX_UFFt8TJ"
      },
      "outputs": [],
      "source": [
        "slope = ...\n",
        "slope"
      ],
      "id": "soLX_UFFt8TJ"
    },
    {
      "cell_type": "code",
      "execution_count": null,
      "metadata": {
        "deletable": false,
        "editable": false,
        "id": "fT92N9e7t8TJ"
      },
      "outputs": [],
      "source": [
        "grader.check(\"q2_1\")"
      ],
      "id": "fT92N9e7t8TJ"
    },
    {
      "cell_type": "markdown",
      "metadata": {
        "id": "dLIgSUWtt8TJ"
      },
      "source": [
        "Sabemos que la recta de regresión pasa por el punto `(duración_media, espera_media)`. Recuerde que la ecuación de la recta de regresión en las unidades originales es:\n",
        "\n",
        "$$ \\text{tiempo de espera} = \\text{pendiente} \\cdot \\text{duración de la erupción} + (- \\text{pendiente} \\cdot \\text{duración media + espera media})$$\n",
        "\n",
        "\n",
        "**Pregunta 2.2.** Calcule la intersección en unidades originales y asígnela a \"intersección\". [Sección 15.2.5](https://inferentialthinking.com/chapters/15/2/Regression_Line.html#the-equation-of-the-regression-line) puede resultar útil.\n"
      ],
      "id": "dLIgSUWtt8TJ"
    },
    {
      "cell_type": "code",
      "execution_count": null,
      "metadata": {
        "tags": [],
        "id": "slUIOceyt8TK"
      },
      "outputs": [],
      "source": [
        "intercept = ...\n",
        "intercept"
      ],
      "id": "slUIOceyt8TK"
    },
    {
      "cell_type": "code",
      "execution_count": null,
      "metadata": {
        "deletable": false,
        "editable": false,
        "id": "so07j4S7t8TK"
      },
      "outputs": [],
      "source": [
        "grader.check(\"q2_2\")"
      ],
      "id": "so07j4S7t8TK"
    },
    {
      "cell_type": "markdown",
      "metadata": {
        "id": "fy7O_Kxct8TK"
      },
      "source": [
        "## 3. Investigando la línea de regresión\n",
        "La pendiente y la intersección te dicen exactamente cómo se ve la línea de regresión. Para predecir el tiempo de espera para una erupción, multiplique la duración de la erupción por \"pendiente\" y luego agregue \"intersección\".\n",
        "\n",
        "**Pregunta 3.1.** Calcule el tiempo de espera previsto para una erupción que dura 2 minutos y para una erupción que dura 5 minutos.\n"
      ],
      "id": "fy7O_Kxct8TK"
    },
    {
      "cell_type": "code",
      "execution_count": null,
      "metadata": {
        "tags": [],
        "id": "T0bYesret8TK"
      },
      "outputs": [],
      "source": [
        "two_minute_predicted_waiting_time = ...\n",
        "five_minute_predicted_waiting_time = ...\n",
        "\n",
        "# Here is a helper function to print out your predictions.\n",
        "# Don't modify the code below.\n",
        "def print_prediction(duration, predicted_waiting_time):\n",
        "    print(\"After an eruption lasting\", duration,\n",
        "          \"minutes, we predict you'll wait\", predicted_waiting_time,\n",
        "          \"minutes until the next eruption.\")\n",
        "\n",
        "print_prediction(2, two_minute_predicted_waiting_time)\n",
        "print_prediction(5, five_minute_predicted_waiting_time)"
      ],
      "id": "T0bYesret8TK"
    },
    {
      "cell_type": "code",
      "execution_count": null,
      "metadata": {
        "deletable": false,
        "editable": false,
        "id": "LNZYN348t8TT"
      },
      "outputs": [],
      "source": [
        "grader.check(\"q3_1\")"
      ],
      "id": "LNZYN348t8TT"
    },
    {
      "cell_type": "markdown",
      "metadata": {
        "id": "l-e6X9Uft8TT"
      },
      "source": [
        "La siguiente celda traza la línea que va entre esos dos puntos, que es (un segmento de) la línea de regresión."
      ],
      "id": "l-e6X9Uft8TT"
    },
    {
      "cell_type": "code",
      "execution_count": null,
      "metadata": {
        "scrolled": true,
        "id": "FQKtQB5St8TU"
      },
      "outputs": [],
      "source": [
        "plot_data_and_line(faithful, \"duration\", \"wait\",\n",
        "                   [2, two_minute_predicted_waiting_time],\n",
        "                   [5, five_minute_predicted_waiting_time])"
      ],
      "id": "FQKtQB5St8TU"
    },
    {
      "cell_type": "markdown",
      "metadata": {
        "id": "UbWrsFTnt8TU"
      },
      "source": [
        "**Pregunta 3.2.** Haga predicciones para el tiempo de espera después de cada erupción en la tabla `fiel`. (¡Por supuesto, sabemos exactamente cuáles fueron los tiempos de espera! Estamos haciendo esto para poder ver cuán precisas son nuestras predicciones). Coloque estos números en una columna en una nueva tabla llamada \"predicciones_fieles\". Su primera fila debería verse así:\n",
        "\n",
        "|duración|espera|espera prevista|\n",
        "|-|-|-|\n",
        "|3.6|79|72.1011|\n",
        "\n",
        "*Pista:* Tu respuesta puede ser solo una línea, aunque no estás limitado a una sola línea. No es necesario un bucle \"for\"; use aritmética de matrices en su lugar."
      ],
      "id": "UbWrsFTnt8TU"
    },
    {
      "cell_type": "code",
      "execution_count": null,
      "metadata": {
        "tags": [],
        "id": "nCBiXzL4t8TU"
      },
      "outputs": [],
      "source": [
        "faithful_predictions = ...\n",
        "faithful_predictions"
      ],
      "id": "nCBiXzL4t8TU"
    },
    {
      "cell_type": "code",
      "execution_count": null,
      "metadata": {
        "deletable": false,
        "editable": false,
        "id": "YSYmrPQOt8TU"
      },
      "outputs": [],
      "source": [
        "grader.check(\"q3_2\")"
      ],
      "id": "YSYmrPQOt8TU"
    },
    {
      "cell_type": "markdown",
      "metadata": {
        "id": "SK9vdt6Qt8TV"
      },
      "source": [
        "**Pregunta 3.3.** ¿Qué tan cerca estábamos? Calcule el *residual* de cada erupción en el conjunto de datos. El residual es el tiempo de espera real menos el tiempo de espera previsto. Agregue los residuos a `faithful_predictions` como una nueva columna llamada `residual` y nombre la tabla resultante `faithful_residuals`.\n",
        "\n",
        "Como se menciona en el [Capítulo 15.6](https://inferentialthinking.com/chapters/15/6/Numerical_Diagnostics.html?highlight=residuals#average-of-residuals), una propiedad útil de los residuos producidos por la regresión lineal con una intersección es que la suma de los residuos siempre será cero. Siempre puedes verificar esto para asegurarte de haber calculado tus residuos correctamente. Tenga en cuenta que puede estar ligeramente alejado de cero debido a errores de redondeo.\n",
        "\n",
        "¡Siéntete libre de copiar y pegar esta línea de código para comprobar tu trabajo! Tenga en cuenta que la respuesta puede ser *muy ligeramente* diferente de cero debido a errores de redondeo en Python.\n",
        "\n",
        "```pitón\n",
        "suma(fiel_residuals.columna('residual'))\n",
        "```\n",
        "\n",
        "*Pista:* Nuevamente, su código será mucho más simple si no usa un bucle `for`.\n"
      ],
      "id": "SK9vdt6Qt8TV"
    },
    {
      "cell_type": "code",
      "execution_count": null,
      "metadata": {
        "tags": [],
        "id": "65zWSOZht8TV"
      },
      "outputs": [],
      "source": [
        "residuals = ...\n",
        "faithful_residuals = ...\n",
        "faithful_residuals"
      ],
      "id": "65zWSOZht8TV"
    },
    {
      "cell_type": "code",
      "execution_count": null,
      "metadata": {
        "deletable": false,
        "editable": false,
        "id": "PutO2vv7t8TV"
      },
      "outputs": [],
      "source": [
        "grader.check(\"q3_3\")"
      ],
      "id": "PutO2vv7t8TV"
    },
    {
      "cell_type": "markdown",
      "metadata": {
        "id": "nh6ITZ-bt8TV"
      },
      "source": [
        "Aquí hay un gráfico de los residuos que calculó. Cada punto corresponde a una erupción. Muestra hasta qué punto nuestra predicción sobreestimó o subestimó el tiempo de espera."
      ],
      "id": "nh6ITZ-bt8TV"
    },
    {
      "cell_type": "code",
      "execution_count": null,
      "metadata": {
        "id": "fuqXTO3ct8TW"
      },
      "outputs": [],
      "source": [
        "faithful_residuals.scatter(\"duration\", \"residual\", color=\"r\")"
      ],
      "id": "fuqXTO3ct8TW"
    },
    {
      "cell_type": "markdown",
      "metadata": {
        "id": "GvslU8TBt8TW"
      },
      "source": [
        "Realmente no hay un patrón en los residuos, lo que confirma que era razonable intentar la regresión lineal. Es cierto que hay dos nubes separadas; la duración de las explosiones pareció dividirse en dos grupos distintos. Pero eso es sólo un patrón en la duración de las erupciones, no un patrón en la relación entre las duraciones de las erupciones y los tiempos de espera."
      ],
      "id": "GvslU8TBt8TW"
    },
    {
      "cell_type": "markdown",
      "metadata": {
        "id": "rIt3QMqht8TW"
      },
      "source": [
        "## 4. ¿Qué tan precisas son las diferentes predicciones?\n",
        "Anteriormente, deberías haber descubierto que la correlación es bastante cercana a 1, por lo que la línea se ajusta bastante bien a los datos de entrenamiento. Eso significa que los residuos son en general pequeños (cerca de 0) en comparación con los tiempos de espera.\n",
        "\n",
        "Podemos verlo visualmente trazando juntos los tiempos de espera y los residuos:"
      ],
      "id": "rIt3QMqht8TW"
    },
    {
      "cell_type": "code",
      "execution_count": null,
      "metadata": {
        "id": "6vxVtnoKt8TW"
      },
      "outputs": [],
      "source": [
        "# Just run this cell.\n",
        "faithful_residuals.scatter(\"duration\", \"wait\", label=\"actual waiting time\", color=\"blue\")\n",
        "plots.scatter(faithful_residuals.column(\"duration\"), faithful_residuals.column(\"residual\"), label=\"residual\", color=\"r\")\n",
        "plots.plot([2, 5], [two_minute_predicted_waiting_time, five_minute_predicted_waiting_time], label=\"regression line\")\n",
        "plots.legend(bbox_to_anchor=(1.7,.8));"
      ],
      "id": "6vxVtnoKt8TW"
    },
    {
      "cell_type": "markdown",
      "metadata": {
        "id": "58ivVGwBt8TX"
      },
      "source": [
        "Sin embargo, a menos que tenga una razón sólida para creer que el modelo de regresión lineal es verdadero, debe tener cuidado al aplicar su modelo de predicción a datos que sean muy diferentes de los datos de entrenamiento."
      ],
      "id": "58ivVGwBt8TX"
    },
    {
      "cell_type": "markdown",
      "metadata": {
        "id": "dbGcTnZit8TX"
      },
      "source": [
        "**Pregunta 4.1.** En \"fieles\", ninguna erupción duró exactamente 0, 2,5 o 60 minutos. Usando esta línea, ¿cuál es el tiempo de espera previsto para una erupción que dura 0 minutos? ¿2,5 minutos? ¿Una hora?"
      ],
      "id": "dbGcTnZit8TX"
    },
    {
      "cell_type": "code",
      "execution_count": null,
      "metadata": {
        "tags": [],
        "id": "DqogRSoqt8TX"
      },
      "outputs": [],
      "source": [
        "zero_minute_predicted_waiting_time = ...\n",
        "two_point_five_minute_predicted_waiting_time = ...\n",
        "hour_predicted_waiting_time = ...\n",
        "\n",
        "print_prediction(0, zero_minute_predicted_waiting_time)\n",
        "print_prediction(2.5, two_point_five_minute_predicted_waiting_time)\n",
        "print_prediction(60, hour_predicted_waiting_time)"
      ],
      "id": "DqogRSoqt8TX"
    },
    {
      "cell_type": "code",
      "execution_count": null,
      "metadata": {
        "deletable": false,
        "editable": false,
        "id": "lRVogvY5t8TX"
      },
      "outputs": [],
      "source": [
        "grader.check(\"q4_1\")"
      ],
      "id": "lRVogvY5t8TX"
    },
    {
      "cell_type": "markdown",
      "metadata": {
        "id": "Aa6BMO8et8TX"
      },
      "source": [
        "**Pregunta 4.2.** Para cada predicción, indica si crees que es confiable y explica tu razonamiento."
      ],
      "id": "Aa6BMO8et8TX"
    },
    {
      "cell_type": "markdown",
      "metadata": {
        "id": "B96tZiglt8TX"
      },
      "source": [
        "_Escriba su respuesta aquí, reemplazando este texto._"
      ],
      "id": "B96tZiglt8TX"
    },
    {
      "cell_type": "markdown",
      "metadata": {
        "id": "GPMy_KY7t8TY"
      },
      "source": [
        "## 5. Divide y vencerás"
      ],
      "id": "GPMy_KY7t8TY"
    },
    {
      "cell_type": "markdown",
      "metadata": {
        "id": "I1r01JmDt8TY"
      },
      "source": [
        "El siguiente gráfico de dispersión muestra la relación entre la duración de las erupciones en el eje x y el tiempo de espera hasta la siguiente erupción en el eje y.\n",
        "\n",
        "Del diagrama de dispersión se desprende que hay dos grupos de puntos: uno con duraciones de alrededor de 2 y otro con duraciones de entre 3,5 y 5. Una línea vertical en 3 divide estos dos grupos."
      ],
      "id": "I1r01JmDt8TY"
    },
    {
      "cell_type": "code",
      "execution_count": null,
      "metadata": {
        "scrolled": true,
        "id": "3k0QKH6lt8TY"
      },
      "outputs": [],
      "source": [
        "faithful.scatter(\"duration\", \"wait\", label=\"actual waiting time\", color=\"blue\")\n",
        "plots.plot([3, 3], [40, 100]);"
      ],
      "id": "3k0QKH6lt8TY"
    },
    {
      "cell_type": "markdown",
      "metadata": {
        "id": "XWnsiHtft8TY"
      },
      "source": [
        "La función \"estandarizar\" de la conferencia aparece a continuación, que toma una tabla con columnas numéricas y devuelve la misma tabla con cada columna convertida en unidades estándar."
      ],
      "id": "XWnsiHtft8TY"
    },
    {
      "cell_type": "code",
      "execution_count": null,
      "metadata": {
        "id": "gOWeBWKCt8TY"
      },
      "outputs": [],
      "source": [
        "# Just run this cell.\n",
        "\n",
        "def standard_units(any_numbers):\n",
        "    \"Convert any array of numbers to standard units.\"\n",
        "    return (any_numbers - np.mean(any_numbers)) / np.std(any_numbers)\n",
        "\n",
        "def standardize(table):\n",
        "    \"\"\"Return a table in which all columns of t are converted to standard units.\"\"\"\n",
        "    t_su = Table()\n",
        "    for label in table.labels:\n",
        "        t_su = t_su.with_column(label + ' (su)', standard_units(table.column(label)))\n",
        "    return t_su"
      ],
      "id": "gOWeBWKCt8TY"
    },
    {
      "cell_type": "markdown",
      "metadata": {
        "id": "J2TkRyrpt8TY"
      },
      "source": [
        "**Pregunta 5.1.** Calcule por separado el coeficiente de correlación *r* para todos los puntos con una duración inferior a 3 **y luego** para todos los puntos con una duración superior a 3. Para hacerlo, cree una función que calcule ` r` de una tabla, y luego pasarle dos tablas de puntos diferentes, llamadas `below_3` y `above_3`.\n",
        "\n",
        "*Pista:* Puedes asumir que la tabla no tiene ningún valor de duración que sea exactamente 3."
      ],
      "id": "J2TkRyrpt8TY"
    },
    {
      "cell_type": "code",
      "execution_count": null,
      "metadata": {
        "tags": [],
        "id": "LOwVy7Szt8TZ"
      },
      "outputs": [],
      "source": [
        "def corr_coeff(table):\n",
        "    \"\"\"Return the regression coefficient for columns 0 & 1.\"\"\"\n",
        "    t_su = standardize(table)\n",
        "    ...\n",
        "\n",
        "below_3 = ...\n",
        "above_3 = ...\n",
        "below_3_r = corr_coeff(below_3)\n",
        "above_3_r = corr_coeff(above_3)\n",
        "print(\"For points below 3, r is\", below_3_r, \"; for points above 3, r is\", above_3_r)"
      ],
      "id": "LOwVy7Szt8TZ"
    },
    {
      "cell_type": "code",
      "execution_count": null,
      "metadata": {
        "deletable": false,
        "editable": false,
        "id": "3eveYduQt8TZ"
      },
      "outputs": [],
      "source": [
        "grader.check(\"q5_1\")"
      ],
      "id": "3eveYduQt8TZ"
    },
    {
      "cell_type": "markdown",
      "metadata": {
        "id": "Lkuy7NjYt8TZ"
      },
      "source": [
        "**Pregunta 5.2.** Complete las funciones `slope_of` e `intercept_of` a continuación.\n",
        "\n",
        "Cuando haya terminado, las funciones `wait_below_3` y `wait_above_3` deberían usar cada una una línea de regresión diferente para predecir un tiempo de espera durante una duración. La primera función debe usar la línea de regresión para todos los puntos con una duración inferior a 3. La segunda función debe usar la línea de regresión para todos los puntos con una duración superior a 3."
      ],
      "id": "Lkuy7NjYt8TZ"
    },
    {
      "cell_type": "code",
      "execution_count": null,
      "metadata": {
        "tags": [],
        "id": "7nO-aCVat8TZ"
      },
      "outputs": [],
      "source": [
        "def slope_of(table, r):\n",
        "    \"\"\"Return the slope of the regression line for table in original units.\n",
        "\n",
        "    Assume that column 0 contains x values and column 1 contains y values.\n",
        "    r is the regression coefficient for x and y.\n",
        "    \"\"\"\n",
        "    ...\n",
        "\n",
        "def intercept_of(table, r):\n",
        "    \"\"\"Return the intercept of the regression line for table in original units.\n",
        "\n",
        "    Assume that column 0 contains x values and column 1 contains y values.\n",
        "    r is the regression coefficient for x and y.\n",
        "    \"\"\"\n",
        "    slope = slope_of(table, r)\n",
        "    ...\n",
        "\n",
        "below_3_slope = slope_of(below_3, below_3_r)\n",
        "below_3_intercept = intercept_of(below_3, below_3_r)\n",
        "above_3_slope = slope_of(above_3, above_3_r)\n",
        "above_3_intercept = intercept_of(above_3, above_3_r)\n",
        "\n",
        "def wait_below_3(duration):\n",
        "    return below_3_slope * duration + below_3_intercept\n",
        "\n",
        "def wait_above_3(duration):\n",
        "    return above_3_slope * duration + above_3_intercept"
      ],
      "id": "7nO-aCVat8TZ"
    },
    {
      "cell_type": "code",
      "execution_count": null,
      "metadata": {
        "deletable": false,
        "editable": false,
        "id": "kzXR2ru4t8TZ"
      },
      "outputs": [],
      "source": [
        "grader.check(\"q5_2\")"
      ],
      "id": "kzXR2ru4t8TZ"
    },
    {
      "cell_type": "markdown",
      "metadata": {
        "id": "QHXe1W2Mt8TZ"
      },
      "source": [
        "El siguiente gráfico muestra las dos líneas de regresión diferentes, una para cada grupo, ¡junto con la línea de regresión original!"
      ],
      "id": "QHXe1W2Mt8TZ"
    },
    {
      "cell_type": "code",
      "execution_count": null,
      "metadata": {
        "id": "qOu9YeISt8Ta"
      },
      "outputs": [],
      "source": [
        "faithful.scatter(0, 1)\n",
        "plots.plot([2, 5], [two_minute_predicted_waiting_time, five_minute_predicted_waiting_time])\n",
        "plots.plot([1, 3], [wait_below_3(1), wait_below_3(3)])\n",
        "plots.plot([3, 6], [wait_above_3(3), wait_above_3(6)]);"
      ],
      "id": "qOu9YeISt8Ta"
    },
    {
      "cell_type": "markdown",
      "metadata": {
        "id": "lRzHmqj4t8Ta"
      },
      "source": [
        "**Pregunta 5.3.** Escriba una función `predict_wait` que tome una `duración` y devuelva el tiempo de espera previsto utilizando la línea de regresión adecuada, dependiendo de si la duración es inferior a 3 o superior a 3.\n",
        "\n",
        "*Pista:* Considere la posibilidad de utilizar declaraciones condicionales.\n"
      ],
      "id": "lRzHmqj4t8Ta"
    },
    {
      "cell_type": "code",
      "execution_count": null,
      "metadata": {
        "for_assignment_type": "student",
        "tags": [],
        "id": "uGfrLFRlt8Ta"
      },
      "outputs": [],
      "source": [
        "def predict_wait(duration):\n",
        "    ..."
      ],
      "id": "uGfrLFRlt8Ta"
    },
    {
      "cell_type": "code",
      "execution_count": null,
      "metadata": {
        "deletable": false,
        "editable": false,
        "id": "Ck8DYaTdt8Ta"
      },
      "outputs": [],
      "source": [
        "grader.check(\"q5_3\")"
      ],
      "id": "Ck8DYaTdt8Ta"
    },
    {
      "cell_type": "markdown",
      "metadata": {
        "id": "wGNc3EMot8Ta"
      },
      "source": [
        "Los tiempos de espera previstos para cada punto aparecen a continuación."
      ],
      "id": "wGNc3EMot8Ta"
    },
    {
      "cell_type": "code",
      "execution_count": null,
      "metadata": {
        "id": "ysuuEL1Tt8Tb"
      },
      "outputs": [],
      "source": [
        "faithful_pred_split = faithful.with_column('predicted', faithful.apply(predict_wait, 'duration'))\n",
        "faithful_pred_split.scatter(0)"
      ],
      "id": "ysuuEL1Tt8Tb"
    },
    {
      "cell_type": "markdown",
      "metadata": {
        "id": "fRIgCfCEt8Tb"
      },
      "source": [
        "**Pregunta 5.4.** ¿Crees que las predicciones producidas por `predict_wait` serían más o menos precisas que las predicciones de la línea de regresión que creaste en la sección 2? ¿Cómo podrías saberlo?"
      ],
      "id": "fRIgCfCEt8Tb"
    },
    {
      "cell_type": "markdown",
      "metadata": {
        "id": "J_dqFc3Gt8Tb"
      },
      "source": [
        "**SOLUCIÓN:** Más preciso, porque cada línea es específica de los valores de su grupo. Para verificarlo, podríamos medir la magnitud promedio de los valores residuales."
      ],
      "id": "J_dqFc3Gt8Tb"
    },
    {
      "cell_type": "markdown",
      "metadata": {
        "id": "TPXkT7uAt8Tb"
      },
      "source": [
        "La siguiente celda trazará los residuos de cada erupción en el conjunto de datos cuando tengamos una línea de regresión y dos líneas de regresión. También vemos la magnitud promedio de los valores residuales."
      ],
      "id": "TPXkT7uAt8Tb"
    },
    {
      "cell_type": "code",
      "execution_count": null,
      "metadata": {
        "scrolled": true,
        "id": "IzRyU9mft8Tc"
      },
      "outputs": [],
      "source": [
        "# Just run this cell\n",
        "faithful_pred_split_residuals = faithful_pred_split.with_column('residual', faithful_pred_split.column(1) - faithful_pred_split.column(2))\n",
        "plots.scatter(faithful_residuals.column('duration'), faithful_residuals.column('residual'), label='one regression line')\n",
        "plots.scatter(faithful_pred_split_residuals.column('duration'), faithful_pred_split_residuals.column('residual'), label='two regression lines');\n",
        "plots.axis([1, 6, -15, 15])\n",
        "plots.legend(bbox_to_anchor=(1.5,.8));\n",
        "print(\"Average Magnitude of Residual Values for One Regression Line: \", np.mean(abs(faithful_residuals.column('residual'))))\n",
        "print(\"Average Magnitude of Residual Values for Two Regression Lines: \", np.mean(abs(faithful_pred_split_residuals.column('residual'))))"
      ],
      "id": "IzRyU9mft8Tc"
    },
    {
      "cell_type": "markdown",
      "metadata": {
        "id": "4J6uRmj-t8Tc"
      },
      "source": [
        "La gráfica residual para los tiempos de espera cuando son predichos por dos líneas de regresión (roja) realmente no tiene un patrón, lo que confirma que también era apropiado usar la regresión lineal en nuestro escenario \"Divide y vencerás\". ¿Cómo se comparan las dos gráficas residuales?"
      ],
      "id": "4J6uRmj-t8Tc"
    },
    {
      "cell_type": "markdown",
      "metadata": {
        "id": "PLiyZ9MNt8Tc"
      },
      "source": [
        "-----\n",
        "## ¡Hecho!\n",
        "\n",
        "<img src=\"https://github.com/darioblandon/materials-fa23/blob/main/lab/lab09/milo.png?raw=1\" alt=\"Picture of a cordi\" width=\"300\"/>\n",
        "\n",
        "**¡Milo** tuvo un gran Halloween!"
      ],
      "id": "PLiyZ9MNt8Tc"
    },
    {
      "cell_type": "markdown",
      "metadata": {
        "id": "ZxekoHVIt8Tc"
      },
      "source": [
        "\n",
        "---\n",
        "\n",
        "¡Terminaste con el laboratorio!\n",
        "\n",
        "**Información importante sobre el envío:**\n",
        "- **Ejecuta todas las pruebas** y verifica que todas pasan\n",
        "- **Guardar** desde el menú **Archivo**\n",
        "- **Ejecute la celda final para generar el archivo zip**\n",
        "- **Haga clic en el enlace para descargar el archivo zip**\n",
        "- Luego, ve a [Gradescope](https://www.gradescope.com/courses/576157) y envía el archivo zip a la tarea correspondiente. El nombre de esta tarea es \"Lab XX Autograder\", donde XX es el número de laboratorio: 01, 02, 03, etc.\n",
        "\n",
        "- Si terminas temprano en el laboratorio regular, **pídele a uno de los miembros del personal que te marque**.\n",
        "\n",
        "**Es su responsabilidad asegurarse de que su trabajo esté guardado antes de ejecutar la última celda.**\n"
      ],
      "id": "ZxekoHVIt8Tc"
    },
    {
      "cell_type": "markdown",
      "metadata": {
        "deletable": false,
        "editable": false,
        "id": "6yMVHSzIt8Td"
      },
      "source": [
        "## Envío\n",
        "\n",
        "Asegúrese de haber ejecutado todas las celdas de su cuaderno en orden antes de ejecutar la siguiente celda, para que todas las imágenes/gráficos aparezcan en el resultado. La siguiente celda generará un archivo zip para que lo envíe. **¡Guarde antes de exportar!**"
      ],
      "id": "6yMVHSzIt8Td"
    },
    {
      "cell_type": "code",
      "execution_count": null,
      "metadata": {
        "deletable": false,
        "editable": false,
        "id": "DRAgsffot8Td"
      },
      "outputs": [],
      "source": [
        "# Save your notebook first, then run this cell to export your submission.\n",
        "grader.export(pdf=False, run_tests=True)"
      ],
      "id": "DRAgsffot8Td"
    },
    {
      "cell_type": "markdown",
      "metadata": {
        "id": "SsaWT7C3t8Td"
      },
      "source": [
        ""
      ],
      "id": "SsaWT7C3t8Td"
    }
  ],
  "metadata": {
    "kernelspec": {
      "display_name": "Python 3",
      "language": "python",
      "name": "python3"
    },
    "language_info": {
      "codemirror_mode": {
        "name": "ipython",
        "version": 3
      },
      "file_extension": ".py",
      "mimetype": "text/x-python",
      "name": "python",
      "nbconvert_exporter": "python",
      "pygments_lexer": "ipython3",
      "version": "3.11.2"
    },
    "otter": {
      "OK_FORMAT": true,
      "tests": {
        "q1_0": {
          "name": "q1_0",
          "points": null,
          "suites": [
            {
              "cases": [
                {
                  "code": ">>> len(least_squares_order) == 4\nTrue",
                  "hidden": false,
                  "locked": false
                },
                {
                  "code": ">>> \n>>> import hashlib # This imports a hashing library for the autograder.\n>>> def get_hash(num):\n...     \"\"\"Helper function for assessing correctness.\"\"\"\n...     return hashlib.md5(str(num).encode()).hexdigest()\n>>> \n>>> get_hash(np.array(least_squares_order).astype(int)) # Your ordering is incorrect.\n'cd29f2d730e11535cef30ecc78640daa'",
                  "hidden": false,
                  "locked": false
                }
              ],
              "scored": true,
              "setup": "",
              "teardown": "",
              "type": "doctest"
            }
          ]
        },
        "q1_3": {
          "name": "q1_3",
          "points": null,
          "suites": [
            {
              "cases": [
                {
                  "code": ">>> abs(sum(faithful_standard.column(0))) <= 1e-8\nTrue",
                  "hidden": false,
                  "locked": false
                },
                {
                  "code": ">>> round(duration_std, 2) == 1.14\nTrue",
                  "hidden": false,
                  "locked": false
                },
                {
                  "code": ">>> round(wait_std, 2) == 13.57 \nTrue",
                  "hidden": false,
                  "locked": false
                }
              ],
              "scored": true,
              "setup": "",
              "teardown": "",
              "type": "doctest"
            }
          ]
        },
        "q1_5": {
          "name": "q1_5",
          "points": null,
          "suites": [
            {
              "cases": [
                {
                  "code": ">>> \n>>> import hashlib # This imports a hashing library for the autograder.\n>>> def get_hash(num):\n...     \"\"\"Helper function for assessing correctness.\"\"\"\n...     return hashlib.md5(str(num).encode()).hexdigest()\n>>> \n>>> get_hash(int(correlation)) # Your choice is incorrect.\n'eccbc87e4b5ce2fe28308fd9f2a7baf3'",
                  "hidden": false,
                  "locked": false
                }
              ],
              "scored": true,
              "setup": "",
              "teardown": "",
              "type": "doctest"
            }
          ]
        },
        "q1_6": {
          "name": "q1_6",
          "points": null,
          "suites": [
            {
              "cases": [
                {
                  "code": ">>> -1 <= r <= 1\nTrue",
                  "hidden": false,
                  "locked": false
                },
                {
                  "code": ">>> round(r,3) == 0.901\nTrue",
                  "hidden": false,
                  "locked": false
                }
              ],
              "scored": true,
              "setup": "",
              "teardown": "",
              "type": "doctest"
            }
          ]
        },
        "q2_1": {
          "name": "q2_1",
          "points": null,
          "suites": [
            {
              "cases": [
                {
                  "code": ">>> (slope*13 - 100)/98 <= 0.5\nTrue",
                  "hidden": false,
                  "locked": false
                },
                {
                  "code": ">>> np.round(slope, 4) == 10.7296 # Make sure you are plugging in the SD_x and SD_y in the correct spots!\nTrue",
                  "hidden": false,
                  "locked": false
                }
              ],
              "scored": true,
              "setup": "",
              "teardown": "",
              "type": "doctest"
            }
          ]
        },
        "q2_2": {
          "name": "q2_2",
          "points": null,
          "suites": [
            {
              "cases": [
                {
                  "code": ">>> 33 < intercept < 34\nTrue",
                  "hidden": false,
                  "locked": false
                },
                {
                  "code": ">>> np.round(intercept, 3) == 33.474\nTrue",
                  "hidden": false,
                  "locked": false
                }
              ],
              "scored": true,
              "setup": "",
              "teardown": "",
              "type": "doctest"
            }
          ]
        },
        "q3_1": {
          "name": "q3_1",
          "points": null,
          "suites": [
            {
              "cases": [
                {
                  "code": ">>> round(two_minute_predicted_waiting_time, 3) == 54.934\nTrue",
                  "hidden": false,
                  "locked": false
                },
                {
                  "code": ">>> round(five_minute_predicted_waiting_time, 3) == 87.123\nTrue",
                  "hidden": false,
                  "locked": false
                }
              ],
              "scored": true,
              "setup": "",
              "teardown": "",
              "type": "doctest"
            }
          ]
        },
        "q3_2": {
          "name": "q3_2",
          "points": null,
          "suites": [
            {
              "cases": [
                {
                  "code": ">>> set(faithful_predictions.labels) == set(['duration', 'wait', 'predicted wait']) # Make sure your column labels are correct.\nTrue",
                  "hidden": false,
                  "locked": false
                },
                {
                  "code": ">>> abs(1 - np.mean(faithful_predictions.column(2))/100) <= 0.35\nTrue",
                  "hidden": false,
                  "locked": false
                }
              ],
              "scored": true,
              "setup": "",
              "teardown": "",
              "type": "doctest"
            }
          ]
        },
        "q3_3": {
          "name": "q3_3",
          "points": null,
          "suites": [
            {
              "cases": [
                {
                  "code": ">>> set(faithful_residuals.labels) == set(['duration', 'wait', 'predicted wait', 'residual']) # Make sure your column labels are correct.\nTrue",
                  "hidden": false,
                  "locked": false
                },
                {
                  "code": ">>> abs(sum(faithful_residuals.column('residual'))) <= 1e-8\nTrue",
                  "hidden": false,
                  "locked": false
                }
              ],
              "scored": true,
              "setup": "",
              "teardown": "",
              "type": "doctest"
            }
          ]
        },
        "q4_1": {
          "name": "q4_1",
          "points": null,
          "suites": [
            {
              "cases": [
                {
                  "code": ">>> 12 - zero_minute_predicted_waiting_time*1.4/4 <= 0.35\nTrue",
                  "hidden": false,
                  "locked": false
                },
                {
                  "code": ">>> zero_minute_predicted_waiting_time - intercept <= 1e5\nTrue",
                  "hidden": false,
                  "locked": false
                },
                {
                  "code": ">>> 2 - two_point_five_minute_predicted_waiting_time/35 <= 0.4\nTrue",
                  "hidden": false,
                  "locked": false
                },
                {
                  "code": ">>> (26 - hour_predicted_waiting_time/30)/10 <= 0.43\nTrue",
                  "hidden": false,
                  "locked": false
                }
              ],
              "scored": true,
              "setup": "",
              "teardown": "",
              "type": "doctest"
            }
          ]
        },
        "q5_1": {
          "name": "q5_1",
          "points": null,
          "suites": [
            {
              "cases": [
                {
                  "code": ">>> [below_3.num_rows, above_3.num_rows]\n[97, 175]",
                  "hidden": false,
                  "locked": false
                },
                {
                  "code": ">>> np.allclose([below_3_r, above_3_r], [0.290189526493, 0.372782225571])\nTrue",
                  "hidden": false,
                  "locked": false
                }
              ],
              "scored": true,
              "setup": "",
              "teardown": "",
              "type": "doctest"
            }
          ]
        },
        "q5_2": {
          "name": "q5_2",
          "points": null,
          "suites": [
            {
              "cases": [
                {
                  "code": ">>> np.allclose([wait_below_3(1), wait_below_3(3), wait_above_3(3), wait_above_3(6)], \n...             [47.902151605742517, 60.603197182023813, 72.965413990538366, 89.281859197449506])\nTrue",
                  "hidden": false,
                  "locked": false
                }
              ],
              "scored": true,
              "setup": "",
              "teardown": "",
              "type": "doctest"
            }
          ]
        },
        "q5_3": {
          "name": "q5_3",
          "points": null,
          "suites": [
            {
              "cases": [
                {
                  "code": ">>> np.allclose([predict_wait(x) for x in [1.5, 2.5]], \n...             [51.077412999812836, 57.427935787953487])\nTrue",
                  "hidden": false,
                  "locked": false
                },
                {
                  "code": ">>> np.allclose([predict_wait(x) for x in [3.5, 4.5]], \n...             [75.684821525023551, 81.123636593993922])\nTrue",
                  "hidden": false,
                  "locked": false
                }
              ],
              "scored": true,
              "setup": "",
              "teardown": "",
              "type": "doctest"
            }
          ]
        }
      }
    },
    "colab": {
      "provenance": [],
      "include_colab_link": true
    }
  },
  "nbformat": 4,
  "nbformat_minor": 5
}